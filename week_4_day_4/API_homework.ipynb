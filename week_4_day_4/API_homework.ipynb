{
 "cells": [
  {
   "attachments": {},
   "cell_type": "markdown",
   "metadata": {},
   "source": [
    "# <strong>Homework</strong>\n",
    "check out this Pokemon API https://pokeapi.co/\n",
    "Use the requests package to connect to this API and get and store data for 5 different pokemon.\n",
    "Get the pokemons: name, atleast one ability's name, base_experience, and the URL for its sprite (an image that shows up on screen) for the 'front_shiny'"
   ]
  },
  {
   "cell_type": "code",
   "execution_count": 2,
   "metadata": {},
   "outputs": [],
   "source": [
    "import requests\n",
    "# TESTING TO SEE WHAT DATA THE RESPONSES CONTAIN AND HOW IT IS STRUCTURED WITHIN JSON\n",
    "# response = requests.get(\"https://pokeapi.co/api/v2/pokemon/1\")\n",
    "# response = requests.get(\"https://pokeapi.co/api/v2/pokemon/\")\n",
    "# response.json()"
   ]
  },
  {
   "cell_type": "code",
   "execution_count": 17,
   "metadata": {},
   "outputs": [],
   "source": [
    "# TESTING TO GET CORRECT DATA\n",
    "\n",
    "# ability_name = response.json()['abilities'][0]['ability']['name']\n",
    "# pokemon_name = response.json()['forms'][0]['name']\n",
    "# base_experience = response.json()['base_experience']\n",
    "# front_shiny_url = response.json()['sprites']['front_shiny']"
   ]
  },
  {
   "cell_type": "code",
   "execution_count": 3,
   "metadata": {},
   "outputs": [
    {
     "name": "stdout",
     "output_type": "stream",
     "text": [
      "POKEMON NAME: bulbasaur\n",
      "Standard Ability: overgrow\n",
      "Base XP: 64\n",
      "Front Shiny URL: https://raw.githubusercontent.com/PokeAPI/sprites/master/sprites/pokemon/shiny/1.png\n",
      "\n",
      "POKEMON NAME: ivysaur\n",
      "Standard Ability: overgrow\n",
      "Base XP: 142\n",
      "Front Shiny URL: https://raw.githubusercontent.com/PokeAPI/sprites/master/sprites/pokemon/shiny/2.png\n",
      "\n",
      "POKEMON NAME: venusaur\n",
      "Standard Ability: overgrow\n",
      "Base XP: 263\n",
      "Front Shiny URL: https://raw.githubusercontent.com/PokeAPI/sprites/master/sprites/pokemon/shiny/3.png\n",
      "\n",
      "POKEMON NAME: charmander\n",
      "Standard Ability: blaze\n",
      "Base XP: 62\n",
      "Front Shiny URL: https://raw.githubusercontent.com/PokeAPI/sprites/master/sprites/pokemon/shiny/4.png\n",
      "\n",
      "POKEMON NAME: charmeleon\n",
      "Standard Ability: blaze\n",
      "Base XP: 142\n",
      "Front Shiny URL: https://raw.githubusercontent.com/PokeAPI/sprites/master/sprites/pokemon/shiny/5.png\n",
      "\n",
      "{1: {'name': 'bulbasaur', 'ability': 'overgrow', 'xp': 64, 'sprite': 'https://raw.githubusercontent.com/PokeAPI/sprites/master/sprites/pokemon/shiny/1.png'}}\n"
     ]
    }
   ],
   "source": [
    "# RUNNING A 1-5 FOR LOOP USING i AS POKEMON INDEX IN API CALL, STORING, AND PRINTING OUT DESIRED DATA FOR EACH.\n",
    "my_pokemon = []\n",
    "for i in range(1,6):\n",
    "    response = requests.get(f'https://pokeapi.co/api/v2/pokemon/{i}')\n",
    "    ability_name = response.json()['abilities'][0]['ability']['name']\n",
    "    pokemon_name = response.json()['forms'][0]['name']\n",
    "    base_experience = response.json()['base_experience']\n",
    "    front_shiny_url = response.json()['sprites']['front_shiny']\n",
    "\n",
    "    my_pokemon.append({ i: {'name': pokemon_name, 'ability': ability_name, 'xp': base_experience, 'sprite': front_shiny_url}})\n",
    "    \n",
    "    print(f'POKEMON NAME: {pokemon_name}\\nStandard Ability: {ability_name}\\nBase XP: {base_experience}\\nFront Shiny URL: {front_shiny_url}\\n')\n",
    "print(my_pokemon[0])"
   ]
  }
 ],
 "metadata": {
  "kernelspec": {
   "display_name": "Python 3",
   "language": "python",
   "name": "python3"
  },
  "language_info": {
   "codemirror_mode": {
    "name": "ipython",
    "version": 3
   },
   "file_extension": ".py",
   "mimetype": "text/x-python",
   "name": "python",
   "nbconvert_exporter": "python",
   "pygments_lexer": "ipython3",
   "version": "3.10.9"
  },
  "orig_nbformat": 4,
  "vscode": {
   "interpreter": {
    "hash": "f0ec7e725f62377f7a1789dc7fc9d2278b67ebd4f850244add6f8669e1267bd3"
   }
  }
 },
 "nbformat": 4,
 "nbformat_minor": 2
}
